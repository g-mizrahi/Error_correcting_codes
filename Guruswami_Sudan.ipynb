{
 "cells": [
  {
   "cell_type": "code",
   "execution_count": 66,
   "metadata": {
    "vscode": {
     "languageId": "plaintext"
    }
   },
   "outputs": [],
   "source": [
    "def guruswami_sudan(u, C, m, l, r):\n",
    "    \"\"\"\n",
    "    Decode the noisy codeword u with code C using the Guruswami Sudan method.\n",
    "    This method implements a list decoding algorithm to retrieve a list of size at most l.\n",
    "\n",
    "    Input :\n",
    "        - u : the noisy codeword to decode\n",
    "        - C : a Reed Solomon code\n",
    "        - m : a decoding parameter\n",
    "        - r : the max number of errors in the encoded word (to compare to floor((n-k)/2))\n",
    "                asymptoticaly n - sqrt(2k*n)\n",
    "        - l : the maximum size of the list of possible codewords (l_max = ceil(m(n-r)/(k-1) - 1))\n",
    "    Output :\n",
    "        - x : a list of possible messages\n",
    "    \"\"\"\n",
    "\n",
    "    # Retrieve the code parameters\n",
    "    n = C.length()\n",
    "    k = C.dimension()\n",
    "    F = C.base_field()\n",
    "    x = C.evaluation_points()\n",
    "\n",
    "    # Create the variables and polynomial rings\n",
    "    # The number of variables is sum[j=1..l](m*(n-r) - j(k-1))\n",
    "    nb_unknowns = (l + 1) * m * (n - r) - (k - 1) * ((l * (l + 1))/2)\n",
    "    # To define many variables in F we need a sagemath trick\n",
    "    unknowns = PolynomialRing(F, nb_unknowns, \"a\")\n",
    "    # The polynomials are bivariate over F\n",
    "    R.<X,Y> = unknowns[]\n",
    "\n",
    "    # Compute Q as the sum of Q_j polynomials\n",
    "    Q = 0 * X * Y\n",
    "    offset = 0\n",
    "    for j in range(l+1):\n",
    "        deg = m*(n-r) - j*(k-1) - 1\n",
    "        Q += sum([\n",
    "                unknowns.gen(i + offset) * X^i for i in range(deg + 1)\n",
    "            ]) * Y^j\n",
    "        offset += deg + 1\n",
    "\n",
    "    # Collect all the equations corresponding to the multiplicity of (x_i, f(x_i))\n",
    "    # meaning that there are no monomials of degree < m\n",
    "    equations = []\n",
    "    for i in range(n):\n",
    "        Q_i = Q(X + x[i], Y + u[i])\n",
    "        # get all the monomials of deg < m\n",
    "        for d_x in range(m):\n",
    "            for d_y in range(m-d_x):\n",
    "                coef = Q_i[d_x, d_y]\n",
    "                equations.append([coef.coefficient({unknowns.gen(i): 1}) for i in range(nb_unknowns)])\n",
    "    # Solve the system of equation using matrix reduction\n",
    "    equations = matrix(F, equations)\n",
    "    S = equations.right_kernel().basis()[0]\n",
    "\n",
    "    # S holds the coefficients of Q\n",
    "    # Rebuild the polynomial as a polynomial with coefficients in F[X] and solve for Y\n",
    "    R = PolynomialRing(F, \"X\")\n",
    "    RR.<Y> = R[]\n",
    "    # Rebuild Q\n",
    "    offset = 0\n",
    "    X_coefs = []\n",
    "    for j in range(l+1):\n",
    "        deg = m*(n-r) - j*(k-1) - 1\n",
    "        X_coefs.append(sum([\n",
    "                S[i + offset] * X^i for i in range(deg + 1)\n",
    "            ]))\n",
    "        offset += deg + 1\n",
    "    P = RR(X_coefs)\n",
    "    # Compute and return the roots, containing the encoded message\n",
    "    f = [p[0].coefficients(sparse=false) for p in P.roots()]\n",
    "    return(f)"
   ]
  },
  {
   "cell_type": "code",
   "execution_count": 67,
   "metadata": {
    "vscode": {
     "languageId": "plaintext"
    }
   },
   "outputs": [
    {
     "name": "stdout",
     "output_type": "stream",
     "text": [
      "Original msg    = (g^7 + g^5 + g^4 + g^3 + g + 1, g^5 + g^4 + g^3 + g^2 + g, g^7 + g^6 + g^4 + g^3 + g + 1, g^7 + g^4 + g^3 + g^2, g^6 + g^3 + g^2 + 1, g^4 + g^3 + g + 1, g^6 + g^5 + g^3 + g^2 + 1, g^7 + g^5 + g^4 + g^3 + g^2 + 1, g^5 + g^3 + g^2 + g, g^5 + g^3 + g^2)\n",
      "Encoded msg u   = (g^7 + g^5 + g^4 + g^3 + g + 1, g^6 + g^4 + g^2 + g, g^5 + g^2 + g, g^7 + g^6 + g^2, g^7 + g^5 + g^4 + g^3 + g^2 + g + 1, g^5 + g^4 + 1, g, g^6 + g^4 + g^3 + g^2 + g + 1, g^6 + g^3, g^7 + g^6 + g^4 + g^2 + g + 1, g^6 + g^4 + g^3 + g + 1, g^5 + g^3 + g^2 + g, g^5 + g^3, g^7 + g^6 + g^5 + g^3 + g + 1, g^6 + g^5 + g^4 + g^3 + g^2 + g + 1, g^6 + g^5 + g^3 + g^2 + g, g^7 + g^6 + g^2, g^6 + g^5 + g^4 + 1, g^7 + g^6 + g^5 + g^4, g, g^7 + g^6 + g^5 + g^4 + g^2 + g, g^7 + g^5 + g^3 + g, g^6 + g^3 + g^2 + g + 1, g^6, g^6 + g^5 + g^3 + g + 1, g^6 + g^4 + g^3 + g^2 + g, g^5 + g^3 + g^2 + g + 1, g^7 + g^6 + g^5 + g, g^3 + g^2 + g + 1, g^7, g^7 + g^6, g^5 + g^4 + g^3)\n",
      "With 13 errors u = (g^7 + g^5 + g^4 + g^3 + g + 1, g^7 + g^5 + g^3 + g^2, g^5 + g^2 + g, g^7 + g^6 + g^2, g^7 + g^5 + g^4 + g^3 + g^2 + g + 1, g^5 + g^4 + 1, g^7 + g^6 + g^5 + g^4 + g^2, g^6 + g^4 + g^3 + g^2 + g + 1, g^6 + g^3, g^7 + g^6 + g^4 + g^2 + g + 1, g^2 + g, g^5 + g^3 + g^2 + g, g^5 + g^3, g^7 + g^6 + g^5 + g^3 + g + 1, g^7 + g^5 + g^4 + g^2, g^6 + g^3 + g, g^7 + g^6 + g^2, g^7 + g^5 + g^4 + g^3 + g^2, g^7 + g^6 + g^5 + g^4, g, g^7, g^7 + g^5 + g^3 + g, g^6 + g^5 + g^4 + g^3 + g + 1, g^7 + g^4 + g^3 + g + 1, g^7 + g^5 + g^4 + g, g^6 + g^4 + g^3 + g^2 + g, g^5 + g^3 + g^2 + g + 1, g^6 + g^4 + g^3 + g, g^3 + g, g^7, g^7 + g^6, g^5 + g^3 + g + 1)\n",
      "Decoded list [1] = [[g^7 + g^5 + g^4 + g^3 + g + 1, g^5 + g^4 + g^3 + g^2 + g, g^7 + g^6 + g^4 + g^3 + g + 1, g^7 + g^4 + g^3 + g^2, g^6 + g^3 + g^2 + 1, g^4 + g^3 + g + 1, g^6 + g^5 + g^3 + g^2 + 1, g^7 + g^5 + g^4 + g^3 + g^2 + 1, g^5 + g^3 + g^2 + g, g^5 + g^3 + g^2]]\n"
     ]
    }
   ],
   "source": [
    "q = 2^8\n",
    "n = 32\n",
    "k = floor(1/3 * n)\n",
    "y = [1] * n # Normal Reed Solomon code\n",
    "F.<g> = GF(q)\n",
    "C = codes.GeneralizedReedSolomonCode(F.list()[:n], k, y)\n",
    "\n",
    "# For Guruswami Sudan decoding two parameters are needed :\n",
    "# - m : the multiplicity parameter. Because the complexity is in m^6, we can only take small values of m.\n",
    "#       For testing, we take m = 3\n",
    "# - l : the maximum length of the decoding list.\n",
    "# Asymptotically, the number of errors to correct can be up to n - sqrt(2k*n)\n",
    "m = 3\n",
    "# The radius and the best l parameter can be computed with sage\n",
    "GSD = codes.decoders.GRSGuruswamiSudanDecoder\n",
    "r, (m, l) = GSD.guruswami_sudan_decoding_radius(C, s=m)\n",
    "\n",
    "msg = random_vector(C.base_field(), C.dimension())\n",
    "\n",
    "print(f\"Original msg    = {msg}\")\n",
    "u = C.encode(msg)\n",
    "print(f\"Encoded msg u   = {u}\")\n",
    "chan = channels.StaticErrorRateChannel(C.ambient_space(), r)\n",
    "v = chan(u)\n",
    "print(f\"With {(u - v).hamming_weight()} errors u = {v}\")\n",
    "\n",
    "decoded = guruswami_sudan(v, C, m=m, l=l, r=r)\n",
    "print(f\"Decoded list [{len(decoded)}] = {decoded}\")"
   ]
  }
 ],
 "metadata": {
  "kernelspec": {
   "display_name": "SageMath 9.5",
   "language": "sage",
   "name": "sagemath"
  },
  "language_info": {
   "codemirror_mode": {
    "name": "ipython",
    "version": 3
   },
   "file_extension": ".py",
   "mimetype": "text/x-python",
   "name": "python",
   "nbconvert_exporter": "python",
   "pygments_lexer": "ipython3",
   "version": "3.10.12"
  }
 },
 "nbformat": 4,
 "nbformat_minor": 2
}
